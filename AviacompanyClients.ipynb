{
  "nbformat": 4,
  "nbformat_minor": 0,
  "metadata": {
    "colab": {
      "provenance": [],
      "gpuType": "T4"
    },
    "kernelspec": {
      "name": "python3",
      "display_name": "Python 3"
    },
    "language_info": {
      "name": "python"
    },
    "accelerator": "GPU"
  },
  "cells": [
    {
      "cell_type": "code",
      "execution_count": null,
      "metadata": {
        "id": "FVLk4FjXU3J9"
      },
      "outputs": [],
      "source": [
        "import pandas as pd\n",
        "import seaborn as sns\n",
        "import numpy as np\n",
        "import matplotlib.pyplot as plt"
      ]
    },
    {
      "cell_type": "code",
      "source": [
        "df = pd.read_csv(\"https://raw.githubusercontent.com/evgpat/edu_stepik_from_idea_to_mvp/main/datasets/clients.csv\")"
      ],
      "metadata": {
        "id": "ed8Nz1ygVCqq"
      },
      "execution_count": null,
      "outputs": []
    },
    {
      "cell_type": "code",
      "source": [
        "# df.sample(3)\n",
        "df.shape"
      ],
      "metadata": {
        "colab": {
          "base_uri": "https://localhost:8080/"
        },
        "id": "2P6KHDt7VjCU",
        "outputId": "4924c9a5-93b0-46b7-d36c-eaeb13d5f20d"
      },
      "execution_count": null,
      "outputs": [
        {
          "output_type": "execute_result",
          "data": {
            "text/plain": [
              "(129880, 24)"
            ]
          },
          "metadata": {},
          "execution_count": 33
        }
      ]
    },
    {
      "cell_type": "code",
      "source": [
        "# Определим какие типы колонок присутствуют в таблице\n",
        "df.info()"
      ],
      "metadata": {
        "colab": {
          "base_uri": "https://localhost:8080/"
        },
        "id": "3ik6H8LIVFKE",
        "outputId": "2fb7880e-73d7-472b-a638-87f96312d0f6"
      },
      "execution_count": null,
      "outputs": [
        {
          "output_type": "stream",
          "name": "stdout",
          "text": [
            "<class 'pandas.core.frame.DataFrame'>\n",
            "RangeIndex: 129880 entries, 0 to 129879\n",
            "Data columns (total 24 columns):\n",
            " #   Column                             Non-Null Count   Dtype  \n",
            "---  ------                             --------------   -----  \n",
            " 0   id                                 129880 non-null  int64  \n",
            " 1   Gender                             129549 non-null  object \n",
            " 2   Age                                129564 non-null  float64\n",
            " 3   Customer Type                      129803 non-null  object \n",
            " 4   Type of Travel                     129779 non-null  object \n",
            " 5   Class                              129764 non-null  object \n",
            " 6   Flight Distance                    129786 non-null  float64\n",
            " 7   Departure Delay in Minutes         129773 non-null  float64\n",
            " 8   Arrival Delay in Minutes           129371 non-null  float64\n",
            " 9   Inflight wifi service              129835 non-null  float64\n",
            " 10  Departure/Arrival time convenient  129831 non-null  float64\n",
            " 11  Ease of Online booking             129837 non-null  float64\n",
            " 12  Gate location                      129842 non-null  float64\n",
            " 13  Food and drink                     129830 non-null  float64\n",
            " 14  Online boarding                    129834 non-null  float64\n",
            " 15  Seat comfort                       129832 non-null  float64\n",
            " 16  Inflight entertainment             129833 non-null  float64\n",
            " 17  On-board service                   129836 non-null  float64\n",
            " 18  Leg room service                   129834 non-null  float64\n",
            " 19  Baggage handling                   129832 non-null  float64\n",
            " 20  Checkin service                    129838 non-null  float64\n",
            " 21  Inflight service                   129817 non-null  float64\n",
            " 22  Cleanliness                        129843 non-null  float64\n",
            " 23  satisfaction                       129880 non-null  object \n",
            "dtypes: float64(18), int64(1), object(5)\n",
            "memory usage: 23.8+ MB\n"
          ]
        }
      ]
    },
    {
      "cell_type": "markdown",
      "source": [
        "Есть признаки категориальные\n",
        "- Gender\n",
        "- Customer Type\n",
        "- Type of Travel\n",
        "- Class\n",
        "\n",
        "Есть признаки численные\n",
        "- Age\n",
        "- Flight Distance\n",
        "- Departure Delay in Minutes\n",
        "- Arrival Delay in Minutes\n",
        "- Inflight wifi service\n",
        "- Departure/Arrival time convenient\n",
        "- Ease of Online booking\n",
        "- Gate location\n",
        "- Food and drink\n",
        "- Online boarding\n",
        "- Seat comfort\n",
        "- Inflight entertainment\n",
        "- On-board service\n",
        "- Leg room service\n",
        "- Baggage handling\n",
        "- Checkin service\n",
        "- Inflight service\n",
        "- Cleanliness\n",
        "\n",
        "Есть целевая категориальная переменная\n",
        "- satisfaction\n"
      ],
      "metadata": {
        "id": "LCEeqPPgVoXj"
      }
    },
    {
      "cell_type": "code",
      "source": [
        "# Определим значения категориальных признаков\n",
        "categorical_features = [\n",
        "    'Gender',\n",
        "    'Customer Type',\n",
        "    'Type of Travel',\n",
        "    'Class',\n",
        "    'satisfaction'\n",
        "]\n",
        "for f in categorical_features:\n",
        "    print(f + \":\\n\" + df[f].value_counts(dropna=False).to_string() + '\\n')"
      ],
      "metadata": {
        "colab": {
          "base_uri": "https://localhost:8080/"
        },
        "id": "U3q47sLLVr8L",
        "outputId": "cc1d34e1-be83-4c14-cab8-b4fdd37e285b"
      },
      "execution_count": null,
      "outputs": [
        {
          "output_type": "stream",
          "name": "stdout",
          "text": [
            "Gender:\n",
            "Female    65726\n",
            "Male      63823\n",
            "NaN         331\n",
            "\n",
            "Customer Type:\n",
            "Loyal Customer       106040\n",
            "disloyal Customer     23763\n",
            "NaN                      77\n",
            "\n",
            "Type of Travel:\n",
            "Business travel    89625\n",
            "Personal Travel    40154\n",
            "NaN                  101\n",
            "\n",
            "Class:\n",
            "Business    62103\n",
            "Eco         58264\n",
            "Eco Plus     9397\n",
            "NaN           116\n",
            "\n",
            "satisfaction:\n",
            "neutral or dissatisfied    58879\n",
            "satisfied                  45025\n",
            "-                          25976\n",
            "\n"
          ]
        }
      ]
    },
    {
      "cell_type": "code",
      "source": [
        "# Определим значения численных признаков\n",
        "numeric_features = [\n",
        "'Age',\n",
        "'Flight Distance',\n",
        "'Departure Delay in Minutes',\n",
        "'Arrival Delay in Minutes',\n",
        "'Inflight wifi service',\n",
        "'Departure/Arrival time convenient',\n",
        "'Ease of Online booking',\n",
        "'Gate location',\n",
        "'Food and drink',\n",
        "'Online boarding',\n",
        "'Seat comfort',\n",
        "'Inflight entertainment',\n",
        "'On-board service',\n",
        "'Leg room service',\n",
        "'Baggage handling',\n",
        "'Checkin service',\n",
        "'Inflight service',\n",
        "'Cleanliness'\n",
        "]\n",
        "df[numeric_features].describe()"
      ],
      "metadata": {
        "colab": {
          "base_uri": "https://localhost:8080/",
          "height": 399
        },
        "id": "7ORGv84gVvi7",
        "outputId": "28b2d1f1-6b0d-4795-d56e-afb6da48199b"
      },
      "execution_count": null,
      "outputs": [
        {
          "output_type": "execute_result",
          "data": {
            "text/plain": [
              "                 Age  Flight Distance  Departure Delay in Minutes  \\\n",
              "count  129564.000000    129786.000000               129773.000000   \n",
              "mean       40.113951      1323.385804                   15.811301   \n",
              "std        20.365190      4516.191530                   93.206139   \n",
              "min         0.000000         0.000000                    0.000000   \n",
              "25%        27.000000       414.000000                    0.000000   \n",
              "50%        40.000000       846.000000                    0.000000   \n",
              "75%        51.000000      1744.000000                   12.000000   \n",
              "max       621.000000    379620.000000                22227.000000   \n",
              "\n",
              "       Arrival Delay in Minutes  Inflight wifi service  \\\n",
              "count             129371.000000          129835.000000   \n",
              "mean                  16.651406               2.732183   \n",
              "std                  109.167328               1.359786   \n",
              "min                    0.000000               0.000000   \n",
              "25%                    0.000000               2.000000   \n",
              "50%                    0.000000               3.000000   \n",
              "75%                   13.000000               4.000000   \n",
              "max                14006.000000              45.000000   \n",
              "\n",
              "       Departure/Arrival time convenient  Ease of Online booking  \\\n",
              "count                      129831.000000           129837.000000   \n",
              "mean                            3.061857                2.760523   \n",
              "std                             1.559323                1.430800   \n",
              "min                             0.000000                0.000000   \n",
              "25%                             2.000000                2.000000   \n",
              "50%                             3.000000                3.000000   \n",
              "75%                             4.000000                4.000000   \n",
              "max                            45.000000               45.000000   \n",
              "\n",
              "       Gate location  Food and drink  Online boarding   Seat comfort  \\\n",
              "count  129842.000000   129830.000000    129834.000000  129832.000000   \n",
              "mean        2.981424        3.208349         3.256674       3.445691   \n",
              "std         1.312628        1.357649         1.381889       1.349732   \n",
              "min         0.000000        0.000000         0.000000       0.000000   \n",
              "25%         2.000000        2.000000         2.000000       2.000000   \n",
              "50%         3.000000        3.000000         3.000000       4.000000   \n",
              "75%         4.000000        4.000000         4.000000       5.000000   \n",
              "max        36.000000       45.000000        40.000000      45.000000   \n",
              "\n",
              "       Inflight entertainment  On-board service  Leg room service  \\\n",
              "count           129833.000000     129836.000000     129834.000000   \n",
              "mean                 3.361395          3.387181          3.356101   \n",
              "std                  1.366866          1.335540          1.361633   \n",
              "min                  0.000000          0.000000          0.000000   \n",
              "25%                  2.000000          2.000000          2.000000   \n",
              "50%                  4.000000          4.000000          4.000000   \n",
              "75%                  4.000000          4.000000          4.000000   \n",
              "max                 45.000000         45.000000         40.000000   \n",
              "\n",
              "       Baggage handling  Checkin service  Inflight service    Cleanliness  \n",
              "count     129832.000000    129838.000000      129817.00000  129843.000000  \n",
              "mean           3.636107         3.310056           3.64718       3.289865  \n",
              "std            1.221818         1.298626           1.21837       1.347625  \n",
              "min            0.000000         0.000000           0.00000       0.000000  \n",
              "25%            3.000000         3.000000           3.00000       2.000000  \n",
              "50%            4.000000         3.000000           4.00000       3.000000  \n",
              "75%            5.000000         4.000000           5.00000       4.000000  \n",
              "max           40.000000        45.000000          40.00000      45.000000  "
            ],
            "text/html": [
              "\n",
              "  <div id=\"df-183c2ddd-c194-4c92-99c8-d577ada23bb8\">\n",
              "    <div class=\"colab-df-container\">\n",
              "      <div>\n",
              "<style scoped>\n",
              "    .dataframe tbody tr th:only-of-type {\n",
              "        vertical-align: middle;\n",
              "    }\n",
              "\n",
              "    .dataframe tbody tr th {\n",
              "        vertical-align: top;\n",
              "    }\n",
              "\n",
              "    .dataframe thead th {\n",
              "        text-align: right;\n",
              "    }\n",
              "</style>\n",
              "<table border=\"1\" class=\"dataframe\">\n",
              "  <thead>\n",
              "    <tr style=\"text-align: right;\">\n",
              "      <th></th>\n",
              "      <th>Age</th>\n",
              "      <th>Flight Distance</th>\n",
              "      <th>Departure Delay in Minutes</th>\n",
              "      <th>Arrival Delay in Minutes</th>\n",
              "      <th>Inflight wifi service</th>\n",
              "      <th>Departure/Arrival time convenient</th>\n",
              "      <th>Ease of Online booking</th>\n",
              "      <th>Gate location</th>\n",
              "      <th>Food and drink</th>\n",
              "      <th>Online boarding</th>\n",
              "      <th>Seat comfort</th>\n",
              "      <th>Inflight entertainment</th>\n",
              "      <th>On-board service</th>\n",
              "      <th>Leg room service</th>\n",
              "      <th>Baggage handling</th>\n",
              "      <th>Checkin service</th>\n",
              "      <th>Inflight service</th>\n",
              "      <th>Cleanliness</th>\n",
              "    </tr>\n",
              "  </thead>\n",
              "  <tbody>\n",
              "    <tr>\n",
              "      <th>count</th>\n",
              "      <td>129564.000000</td>\n",
              "      <td>129786.000000</td>\n",
              "      <td>129773.000000</td>\n",
              "      <td>129371.000000</td>\n",
              "      <td>129835.000000</td>\n",
              "      <td>129831.000000</td>\n",
              "      <td>129837.000000</td>\n",
              "      <td>129842.000000</td>\n",
              "      <td>129830.000000</td>\n",
              "      <td>129834.000000</td>\n",
              "      <td>129832.000000</td>\n",
              "      <td>129833.000000</td>\n",
              "      <td>129836.000000</td>\n",
              "      <td>129834.000000</td>\n",
              "      <td>129832.000000</td>\n",
              "      <td>129838.000000</td>\n",
              "      <td>129817.00000</td>\n",
              "      <td>129843.000000</td>\n",
              "    </tr>\n",
              "    <tr>\n",
              "      <th>mean</th>\n",
              "      <td>40.113951</td>\n",
              "      <td>1323.385804</td>\n",
              "      <td>15.811301</td>\n",
              "      <td>16.651406</td>\n",
              "      <td>2.732183</td>\n",
              "      <td>3.061857</td>\n",
              "      <td>2.760523</td>\n",
              "      <td>2.981424</td>\n",
              "      <td>3.208349</td>\n",
              "      <td>3.256674</td>\n",
              "      <td>3.445691</td>\n",
              "      <td>3.361395</td>\n",
              "      <td>3.387181</td>\n",
              "      <td>3.356101</td>\n",
              "      <td>3.636107</td>\n",
              "      <td>3.310056</td>\n",
              "      <td>3.64718</td>\n",
              "      <td>3.289865</td>\n",
              "    </tr>\n",
              "    <tr>\n",
              "      <th>std</th>\n",
              "      <td>20.365190</td>\n",
              "      <td>4516.191530</td>\n",
              "      <td>93.206139</td>\n",
              "      <td>109.167328</td>\n",
              "      <td>1.359786</td>\n",
              "      <td>1.559323</td>\n",
              "      <td>1.430800</td>\n",
              "      <td>1.312628</td>\n",
              "      <td>1.357649</td>\n",
              "      <td>1.381889</td>\n",
              "      <td>1.349732</td>\n",
              "      <td>1.366866</td>\n",
              "      <td>1.335540</td>\n",
              "      <td>1.361633</td>\n",
              "      <td>1.221818</td>\n",
              "      <td>1.298626</td>\n",
              "      <td>1.21837</td>\n",
              "      <td>1.347625</td>\n",
              "    </tr>\n",
              "    <tr>\n",
              "      <th>min</th>\n",
              "      <td>0.000000</td>\n",
              "      <td>0.000000</td>\n",
              "      <td>0.000000</td>\n",
              "      <td>0.000000</td>\n",
              "      <td>0.000000</td>\n",
              "      <td>0.000000</td>\n",
              "      <td>0.000000</td>\n",
              "      <td>0.000000</td>\n",
              "      <td>0.000000</td>\n",
              "      <td>0.000000</td>\n",
              "      <td>0.000000</td>\n",
              "      <td>0.000000</td>\n",
              "      <td>0.000000</td>\n",
              "      <td>0.000000</td>\n",
              "      <td>0.000000</td>\n",
              "      <td>0.000000</td>\n",
              "      <td>0.00000</td>\n",
              "      <td>0.000000</td>\n",
              "    </tr>\n",
              "    <tr>\n",
              "      <th>25%</th>\n",
              "      <td>27.000000</td>\n",
              "      <td>414.000000</td>\n",
              "      <td>0.000000</td>\n",
              "      <td>0.000000</td>\n",
              "      <td>2.000000</td>\n",
              "      <td>2.000000</td>\n",
              "      <td>2.000000</td>\n",
              "      <td>2.000000</td>\n",
              "      <td>2.000000</td>\n",
              "      <td>2.000000</td>\n",
              "      <td>2.000000</td>\n",
              "      <td>2.000000</td>\n",
              "      <td>2.000000</td>\n",
              "      <td>2.000000</td>\n",
              "      <td>3.000000</td>\n",
              "      <td>3.000000</td>\n",
              "      <td>3.00000</td>\n",
              "      <td>2.000000</td>\n",
              "    </tr>\n",
              "    <tr>\n",
              "      <th>50%</th>\n",
              "      <td>40.000000</td>\n",
              "      <td>846.000000</td>\n",
              "      <td>0.000000</td>\n",
              "      <td>0.000000</td>\n",
              "      <td>3.000000</td>\n",
              "      <td>3.000000</td>\n",
              "      <td>3.000000</td>\n",
              "      <td>3.000000</td>\n",
              "      <td>3.000000</td>\n",
              "      <td>3.000000</td>\n",
              "      <td>4.000000</td>\n",
              "      <td>4.000000</td>\n",
              "      <td>4.000000</td>\n",
              "      <td>4.000000</td>\n",
              "      <td>4.000000</td>\n",
              "      <td>3.000000</td>\n",
              "      <td>4.00000</td>\n",
              "      <td>3.000000</td>\n",
              "    </tr>\n",
              "    <tr>\n",
              "      <th>75%</th>\n",
              "      <td>51.000000</td>\n",
              "      <td>1744.000000</td>\n",
              "      <td>12.000000</td>\n",
              "      <td>13.000000</td>\n",
              "      <td>4.000000</td>\n",
              "      <td>4.000000</td>\n",
              "      <td>4.000000</td>\n",
              "      <td>4.000000</td>\n",
              "      <td>4.000000</td>\n",
              "      <td>4.000000</td>\n",
              "      <td>5.000000</td>\n",
              "      <td>4.000000</td>\n",
              "      <td>4.000000</td>\n",
              "      <td>4.000000</td>\n",
              "      <td>5.000000</td>\n",
              "      <td>4.000000</td>\n",
              "      <td>5.00000</td>\n",
              "      <td>4.000000</td>\n",
              "    </tr>\n",
              "    <tr>\n",
              "      <th>max</th>\n",
              "      <td>621.000000</td>\n",
              "      <td>379620.000000</td>\n",
              "      <td>22227.000000</td>\n",
              "      <td>14006.000000</td>\n",
              "      <td>45.000000</td>\n",
              "      <td>45.000000</td>\n",
              "      <td>45.000000</td>\n",
              "      <td>36.000000</td>\n",
              "      <td>45.000000</td>\n",
              "      <td>40.000000</td>\n",
              "      <td>45.000000</td>\n",
              "      <td>45.000000</td>\n",
              "      <td>45.000000</td>\n",
              "      <td>40.000000</td>\n",
              "      <td>40.000000</td>\n",
              "      <td>45.000000</td>\n",
              "      <td>40.00000</td>\n",
              "      <td>45.000000</td>\n",
              "    </tr>\n",
              "  </tbody>\n",
              "</table>\n",
              "</div>\n",
              "      <button class=\"colab-df-convert\" onclick=\"convertToInteractive('df-183c2ddd-c194-4c92-99c8-d577ada23bb8')\"\n",
              "              title=\"Convert this dataframe to an interactive table.\"\n",
              "              style=\"display:none;\">\n",
              "        \n",
              "  <svg xmlns=\"http://www.w3.org/2000/svg\" height=\"24px\"viewBox=\"0 0 24 24\"\n",
              "       width=\"24px\">\n",
              "    <path d=\"M0 0h24v24H0V0z\" fill=\"none\"/>\n",
              "    <path d=\"M18.56 5.44l.94 2.06.94-2.06 2.06-.94-2.06-.94-.94-2.06-.94 2.06-2.06.94zm-11 1L8.5 8.5l.94-2.06 2.06-.94-2.06-.94L8.5 2.5l-.94 2.06-2.06.94zm10 10l.94 2.06.94-2.06 2.06-.94-2.06-.94-.94-2.06-.94 2.06-2.06.94z\"/><path d=\"M17.41 7.96l-1.37-1.37c-.4-.4-.92-.59-1.43-.59-.52 0-1.04.2-1.43.59L10.3 9.45l-7.72 7.72c-.78.78-.78 2.05 0 2.83L4 21.41c.39.39.9.59 1.41.59.51 0 1.02-.2 1.41-.59l7.78-7.78 2.81-2.81c.8-.78.8-2.07 0-2.86zM5.41 20L4 18.59l7.72-7.72 1.47 1.35L5.41 20z\"/>\n",
              "  </svg>\n",
              "      </button>\n",
              "      \n",
              "  <style>\n",
              "    .colab-df-container {\n",
              "      display:flex;\n",
              "      flex-wrap:wrap;\n",
              "      gap: 12px;\n",
              "    }\n",
              "\n",
              "    .colab-df-convert {\n",
              "      background-color: #E8F0FE;\n",
              "      border: none;\n",
              "      border-radius: 50%;\n",
              "      cursor: pointer;\n",
              "      display: none;\n",
              "      fill: #1967D2;\n",
              "      height: 32px;\n",
              "      padding: 0 0 0 0;\n",
              "      width: 32px;\n",
              "    }\n",
              "\n",
              "    .colab-df-convert:hover {\n",
              "      background-color: #E2EBFA;\n",
              "      box-shadow: 0px 1px 2px rgba(60, 64, 67, 0.3), 0px 1px 3px 1px rgba(60, 64, 67, 0.15);\n",
              "      fill: #174EA6;\n",
              "    }\n",
              "\n",
              "    [theme=dark] .colab-df-convert {\n",
              "      background-color: #3B4455;\n",
              "      fill: #D2E3FC;\n",
              "    }\n",
              "\n",
              "    [theme=dark] .colab-df-convert:hover {\n",
              "      background-color: #434B5C;\n",
              "      box-shadow: 0px 1px 3px 1px rgba(0, 0, 0, 0.15);\n",
              "      filter: drop-shadow(0px 1px 2px rgba(0, 0, 0, 0.3));\n",
              "      fill: #FFFFFF;\n",
              "    }\n",
              "  </style>\n",
              "\n",
              "      <script>\n",
              "        const buttonEl =\n",
              "          document.querySelector('#df-183c2ddd-c194-4c92-99c8-d577ada23bb8 button.colab-df-convert');\n",
              "        buttonEl.style.display =\n",
              "          google.colab.kernel.accessAllowed ? 'block' : 'none';\n",
              "\n",
              "        async function convertToInteractive(key) {\n",
              "          const element = document.querySelector('#df-183c2ddd-c194-4c92-99c8-d577ada23bb8');\n",
              "          const dataTable =\n",
              "            await google.colab.kernel.invokeFunction('convertToInteractive',\n",
              "                                                     [key], {});\n",
              "          if (!dataTable) return;\n",
              "\n",
              "          const docLinkHtml = 'Like what you see? Visit the ' +\n",
              "            '<a target=\"_blank\" href=https://colab.research.google.com/notebooks/data_table.ipynb>data table notebook</a>'\n",
              "            + ' to learn more about interactive tables.';\n",
              "          element.innerHTML = '';\n",
              "          dataTable['output_type'] = 'display_data';\n",
              "          await google.colab.output.renderOutput(dataTable, element);\n",
              "          const docLink = document.createElement('div');\n",
              "          docLink.innerHTML = docLinkHtml;\n",
              "          element.appendChild(docLink);\n",
              "        }\n",
              "      </script>\n",
              "    </div>\n",
              "  </div>\n",
              "  "
            ]
          },
          "metadata": {},
          "execution_count": 36
        }
      ]
    },
    {
      "cell_type": "markdown",
      "source": [
        "Можно сделать вывод:\n",
        "- Есть некорректные данные во всех численных признаках\n",
        "    - Age: максимальное значение невозможно\n",
        "    - Flight Distance: максимальное значение невозможно, т.к. 379620.0 миль = 610939 км = это 15 длин экватора\n",
        "    - Departure Delay in Minutes: максимальное значение невозможно, т.к. 22227.0 - это 370 дней\n",
        "    - Arrival Delay in Minutes: максимальное значение невозможно, т.к. 14006.0 - это 233 дней\n",
        "- Есть некорректные данные во всех нецелевых оценок, т.к. эти значения должны принимать значения [1..5]\n",
        "    - Inflight wifi service: 0.0, 45.0\n",
        "    - Departure/Arrival time convenient: 0.0, 45.0\n",
        "    - Ease of Online booking: 0.0, 45.0\n",
        "    - Gate location: 0.0, 36.0\n",
        "    - Food and drink: 0.0, 45.0\n",
        "    - Online boarding: 0.0, 40.0\n",
        "    - Seat comfort: 0.0, 45.0\n",
        "    - Inflight entertainment: 0.0, 45.0\n",
        "    - On-board service: 0.0, 45.0\n",
        "    - Leg room service: 0.0, 40.0\n",
        "    - Baggage handling: 0.0, 40.0\n",
        "    - Checkin service: 0.0, 45.0\n",
        "    - Inflight service: 0.0, 40.0\n",
        "    - Cleanliness: 0.0, 45.0"
      ],
      "metadata": {
        "id": "5v7AfQdsV5d7"
      }
    },
    {
      "cell_type": "code",
      "source": [
        "# Выбросов в признаках 'Age', 'Flight Distance', 'Departure Delay in Minutes', 'Arrival Delay in Minutes' очень много\n",
        "g = sns.catplot(data=df[['Age', 'Flight Distance', 'Departure Delay in Minutes', 'Arrival Delay in Minutes']], kind='box')\n",
        "g.set_xticklabels(rotation=90)"
      ],
      "metadata": {
        "colab": {
          "base_uri": "https://localhost:8080/",
          "height": 701
        },
        "id": "K-1m0uh06943",
        "outputId": "b386314f-5b7a-4d51-b5b7-1bfd70d26f96"
      },
      "execution_count": null,
      "outputs": [
        {
          "output_type": "execute_result",
          "data": {
            "text/plain": [
              "<seaborn.axisgrid.FacetGrid at 0x7fdf8a853280>"
            ]
          },
          "metadata": {},
          "execution_count": 37
        },
        {
          "output_type": "display_data",
          "data": {
            "text/plain": [
              "<Figure size 500x500 with 1 Axes>"
            ],
            "image/png": "[encoded data removed]"
          },
          "metadata": {}
        }
      ]
    },
    {
      "cell_type": "code",
      "source": [
        "# Определим количество некорректных признаков\n",
        "# - Age: определим подбором 0.3 перцентиль - выбросы\n",
        "sns.histplot(df['Age'], kde=True)\n",
        "plt.show()\n",
        "\n",
        "age_ok = df['Age'].quantile(0.997)\n",
        "age_ok"
      ],
      "metadata": {
        "colab": {
          "base_uri": "https://localhost:8080/",
          "height": 466
        },
        "id": "f_MywqMqV81b",
        "outputId": "0396200c-fa14-40ea-e3e2-2e6db7e1e865"
      },
      "execution_count": null,
      "outputs": [
        {
          "output_type": "display_data",
          "data": {
            "text/plain": [
              "<Figure size 640x480 with 1 Axes>"
            ],
            "image/png": "[encoded data removed]"
          },
          "metadata": {}
        },
        {
          "output_type": "execute_result",
          "data": {
            "text/plain": [
              "112.62200000000303"
            ]
          },
          "metadata": {},
          "execution_count": 38
        }
      ]
    },
    {
      "cell_type": "code",
      "source": [
        "# - Flight Distance: определим подбором 0.3 перцентиль - выбросы\n",
        "sns.histplot(df['Flight Distance'], kde=True)\n",
        "plt.show()\n",
        "\n",
        "distance_ok = df['Flight Distance'].quantile(0.997)\n",
        "distance_ok"
      ],
      "metadata": {
        "colab": {
          "base_uri": "https://localhost:8080/",
          "height": 466
        },
        "id": "Pvb4MXxiWDSb",
        "outputId": "dc344b6e-3636-4506-fc25-ee1c6a0aa4a2"
      },
      "execution_count": null,
      "outputs": [
        {
          "output_type": "display_data",
          "data": {
            "text/plain": [
              "<Figure size 640x480 with 1 Axes>"
            ],
            "image/png": "[encoded data removed]"
          },
          "metadata": {}
        },
        {
          "output_type": "execute_result",
          "data": {
            "text/plain": [
              "3993.0"
            ]
          },
          "metadata": {},
          "execution_count": 39
        }
      ]
    },
    {
      "cell_type": "code",
      "source": [
        "# - Departure Delay in Minutes: определим подбором 0.3 перцентиль - выбросы\n",
        "sns.histplot(df['Departure Delay in Minutes'], kde=True)\n",
        "plt.show()\n",
        "\n",
        "departue_delay_ok = df['Departure Delay in Minutes'].quantile(0.997)\n",
        "departue_delay_ok"
      ],
      "metadata": {
        "colab": {
          "base_uri": "https://localhost:8080/",
          "height": 466
        },
        "id": "un2nDd0WWNUc",
        "outputId": "70dbb631-b9c8-48f5-9ab5-939c37c01505"
      },
      "execution_count": null,
      "outputs": [
        {
          "output_type": "display_data",
          "data": {
            "text/plain": [
              "<Figure size 640x480 with 1 Axes>"
            ],
            "image/png": "[encoded data removed]"
          },
          "metadata": {}
        },
        {
          "output_type": "execute_result",
          "data": {
            "text/plain": [
              "294.0"
            ]
          },
          "metadata": {},
          "execution_count": 40
        }
      ]
    },
    {
      "cell_type": "code",
      "source": [
        "# - Arrival Delay in Minutes: определим подбором 0.3 перцентиль - выбросы\n",
        "sns.histplot(df['Arrival Delay in Minutes'], kde=True)\n",
        "plt.show()\n",
        "\n",
        "arrival_delay_ok = df['Arrival Delay in Minutes'].quantile(0.997)\n",
        "arrival_delay_ok"
      ],
      "metadata": {
        "colab": {
          "base_uri": "https://localhost:8080/",
          "height": 466
        },
        "id": "GvpXa2kwWSu1",
        "outputId": "71b1f962-7807-4629-9488-27b66acfecba"
      },
      "execution_count": null,
      "outputs": [
        {
          "output_type": "display_data",
          "data": {
            "text/plain": [
              "<Figure size 640x480 with 1 Axes>"
            ],
            "image/png": "[encoded data removed]"
          },
          "metadata": {}
        },
        {
          "output_type": "execute_result",
          "data": {
            "text/plain": [
              "296.0"
            ]
          },
          "metadata": {},
          "execution_count": 41
        }
      ]
    },
    {
      "cell_type": "code",
      "source": [
        "# Определим количество некорректных нецелевых оценок\n",
        "params_score = [\n",
        "'Inflight wifi service',\n",
        "'Departure/Arrival time convenient',\n",
        "'Ease of Online booking',\n",
        "'Gate location',\n",
        "'Food and drink',\n",
        "'Online boarding',\n",
        "'Seat comfort',\n",
        "'Inflight entertainment',\n",
        "'On-board service',\n",
        "'Leg room service',\n",
        "'Baggage handling',\n",
        "'Checkin service',\n",
        "'Inflight service',\n",
        "'Cleanliness'\n",
        "]\n",
        "for p in params_score:\n",
        "  print(len(df[(df[p] < 1) | (df[p] > 5)])/len(df)*100)"
      ],
      "metadata": {
        "colab": {
          "base_uri": "https://localhost:8080/"
        },
        "id": "c37gzbESW4SM",
        "outputId": "b35ee47a-eee1-4c0a-bb14-e61010115ede"
      },
      "execution_count": null,
      "outputs": [
        {
          "output_type": "stream",
          "name": "stdout",
          "text": [
            "3.0428087465352633\n",
            "5.177856482907299\n",
            "4.398675700646751\n",
            "0.03387742531567601\n",
            "0.13089005235602094\n",
            "2.4006775485063137\n",
            "0.037727132737911916\n",
            "0.037727132737911916\n",
            "0.028487834924545735\n",
            "0.4958423159839852\n",
            "0.02694795195565137\n",
            "0.03387742531567601\n",
            "0.037727132737911916\n",
            "0.036957191253464736\n"
          ]
        }
      ]
    },
    {
      "cell_type": "code",
      "source": [
        "# Выбросов в признаках params_score предостаточно\n",
        "g = sns.catplot(data=df[params_score], kind='box')\n",
        "g.set_xticklabels(rotation=90)"
      ],
      "metadata": {
        "colab": {
          "base_uri": "https://localhost:8080/",
          "height": 747
        },
        "id": "jpmCbjKN8SXI",
        "outputId": "51d86499-5ad3-4037-f3ca-8aa66207ebc6"
      },
      "execution_count": null,
      "outputs": [
        {
          "output_type": "execute_result",
          "data": {
            "text/plain": [
              "<seaborn.axisgrid.FacetGrid at 0x7fdfa74f9780>"
            ]
          },
          "metadata": {},
          "execution_count": 43
        },
        {
          "output_type": "display_data",
          "data": {
            "text/plain": [
              "<Figure size 500x500 with 1 Axes>"
            ],
            "image/png": "[encoded data removed]"
          },
          "metadata": {}
        }
      ]
    },
    {
      "cell_type": "markdown",
      "source": [
        "Во всех категориях нецелевых оценок количество значений вне диапазона [1..5] меньше 5%, поэтому их можно отбросить"
      ],
      "metadata": {
        "id": "YCL6AzayXCA2"
      }
    },
    {
      "cell_type": "code",
      "source": [
        "# Анализ целевых оценок\n",
        "df[['satisfaction']].value_counts(dropna=False, normalize=True)"
      ],
      "metadata": {
        "colab": {
          "base_uri": "https://localhost:8080/"
        },
        "id": "5cYntwIAXFNs",
        "outputId": "9c21e85b-975f-46c7-e661-fc910f6bb2d5"
      },
      "execution_count": null,
      "outputs": [
        {
          "output_type": "execute_result",
          "data": {
            "text/plain": [
              "satisfaction           \n",
              "neutral or dissatisfied    0.453334\n",
              "satisfied                  0.346666\n",
              "-                          0.200000\n",
              "dtype: float64"
            ]
          },
          "metadata": {},
          "execution_count": 44
        }
      ]
    },
    {
      "cell_type": "code",
      "source": [
        "plt.figure(figsize=(6,4))\n",
        "sns.countplot(x='satisfaction', data = df, palette='bright')"
      ],
      "metadata": {
        "colab": {
          "base_uri": "https://localhost:8080/",
          "height": 405
        },
        "id": "uDdbumtl7TS7",
        "outputId": "b29a93f9-32cf-4f69-c9a6-99ace575e6cc"
      },
      "execution_count": null,
      "outputs": [
        {
          "output_type": "execute_result",
          "data": {
            "text/plain": [
              "<Axes: xlabel='satisfaction', ylabel='count'>"
            ]
          },
          "metadata": {},
          "execution_count": 45
        },
        {
          "output_type": "display_data",
          "data": {
            "text/plain": [
              "<Figure size 600x400 with 1 Axes>"
            ],
            "image/png": "[encoded data removed]"
          },
          "metadata": {}
        }
      ]
    },
    {
      "cell_type": "markdown",
      "source": [
        "Категорию '-' невозможно интерпретировать, поэтому эти строки можно отбросить"
      ],
      "metadata": {
        "id": "J3fct9ppXP2j"
      }
    },
    {
      "cell_type": "markdown",
      "source": [
        "Отбросим все некорректные значения"
      ],
      "metadata": {
        "id": "oLgAEjDoYwN8"
      }
    },
    {
      "cell_type": "code",
      "source": [
        "df.drop(df[df['Age'] > age_ok].index, inplace=True)\n",
        "df.drop(df[df['Flight Distance'] > distance_ok].index, inplace=True)\n",
        "df.drop(df[df['Departure Delay in Minutes'] > departue_delay_ok].index, inplace=True)\n",
        "df.drop(df[df['Arrival Delay in Minutes'] > arrival_delay_ok].index, inplace=True)"
      ],
      "metadata": {
        "id": "t7lbLFgQXf8v"
      },
      "execution_count": null,
      "outputs": []
    },
    {
      "cell_type": "code",
      "source": [
        "params_score = [\n",
        "'Inflight wifi service',\n",
        "'Departure/Arrival time convenient',\n",
        "'Ease of Online booking',\n",
        "'Gate location',\n",
        "'Food and drink',\n",
        "'Online boarding',\n",
        "'Seat comfort',\n",
        "'Inflight entertainment',\n",
        "'On-board service',\n",
        "'Leg room service',\n",
        "'Baggage handling',\n",
        "'Checkin service',\n",
        "'Inflight service',\n",
        "'Cleanliness'\n",
        "]\n",
        "for p in params_score:\n",
        "  df = df[(df[p] >= 1) & (df[p] <= 5)]"
      ],
      "metadata": {
        "id": "o3VjQfKQXw9r"
      },
      "execution_count": null,
      "outputs": []
    },
    {
      "cell_type": "code",
      "source": [
        "# Проверим, что значения вне диапазона [1..5] отброшены\n",
        "df['Inflight wifi service'].value_counts(dropna=True)"
      ],
      "metadata": {
        "colab": {
          "base_uri": "https://localhost:8080/"
        },
        "id": "4mnWwUpzZUyC",
        "outputId": "24b8203a-61cf-4be4-eb39-cdc5704d7756"
      },
      "execution_count": null,
      "outputs": [
        {
          "output_type": "execute_result",
          "data": {
            "text/plain": [
              "2.0    30332\n",
              "3.0    30244\n",
              "4.0    23000\n",
              "1.0    20375\n",
              "5.0    13353\n",
              "Name: Inflight wifi service, dtype: int64"
            ]
          },
          "metadata": {},
          "execution_count": 48
        }
      ]
    },
    {
      "cell_type": "code",
      "source": [
        "df = df[~df['satisfaction'].isin(['-'])]"
      ],
      "metadata": {
        "id": "9lwFlOulXi8s"
      },
      "execution_count": null,
      "outputs": []
    },
    {
      "cell_type": "code",
      "source": [
        "df.shape\n",
        "df[['Gender']].value_counts(dropna=False)"
      ],
      "metadata": {
        "colab": {
          "base_uri": "https://localhost:8080/"
        },
        "id": "AdLYxRK3Y61u",
        "outputId": "e4a4ec60-f375-4b3c-8841-078b0566b820"
      },
      "execution_count": null,
      "outputs": [
        {
          "output_type": "execute_result",
          "data": {
            "text/plain": [
              "Gender\n",
              "Female    47461\n",
              "Male      46229\n",
              "NaN         233\n",
              "dtype: int64"
            ]
          },
          "metadata": {},
          "execution_count": 50
        }
      ]
    },
    {
      "cell_type": "code",
      "source": [
        "df = df.dropna()\n"
      ],
      "metadata": {
        "id": "eL7b4Bd4f3wc"
      },
      "execution_count": null,
      "outputs": []
    },
    {
      "cell_type": "code",
      "source": [
        "df[['Gender']].value_counts(dropna=False)"
      ],
      "metadata": {
        "colab": {
          "base_uri": "https://localhost:8080/"
        },
        "id": "sGRcSt-CdhZW",
        "outputId": "dbb3d041-6c2a-4dc5-d088-9a8c57f708f8"
      },
      "execution_count": null,
      "outputs": [
        {
          "output_type": "execute_result",
          "data": {
            "text/plain": [
              "Gender\n",
              "Female    46998\n",
              "Male      45733\n",
              "dtype: int64"
            ]
          },
          "metadata": {},
          "execution_count": 52
        }
      ]
    },
    {
      "cell_type": "code",
      "source": [
        "# Проверим, что все категориальные значения не содержат NaN и других некорректных значений\n",
        "df.describe(include='object')"
      ],
      "metadata": {
        "colab": {
          "base_uri": "https://localhost:8080/",
          "height": 175
        },
        "id": "y3d-yO8YY_FL",
        "outputId": "c10c8013-6489-4f6a-a41c-2d0c72060f74"
      },
      "execution_count": null,
      "outputs": [
        {
          "output_type": "execute_result",
          "data": {
            "text/plain": [
              "        Gender   Customer Type   Type of Travel     Class  \\\n",
              "count    92731           92731            92731     92731   \n",
              "unique       2               2                2         3   \n",
              "top     Female  Loyal Customer  Business travel  Business   \n",
              "freq     46998           77811            64002     44936   \n",
              "\n",
              "                   satisfaction  \n",
              "count                     92731  \n",
              "unique                        2  \n",
              "top     neutral or dissatisfied  \n",
              "freq                      53296  "
            ],
            "text/html": [
              "\n",
              "  <div id=\"df-dd359a5c-0560-490d-a5b0-6b624eedf618\">\n",
              "    <div class=\"colab-df-container\">\n",
              "      <div>\n",
              "<style scoped>\n",
              "    .dataframe tbody tr th:only-of-type {\n",
              "        vertical-align: middle;\n",
              "    }\n",
              "\n",
              "    .dataframe tbody tr th {\n",
              "        vertical-align: top;\n",
              "    }\n",
              "\n",
              "    .dataframe thead th {\n",
              "        text-align: right;\n",
              "    }\n",
              "</style>\n",
              "<table border=\"1\" class=\"dataframe\">\n",
              "  <thead>\n",
              "    <tr style=\"text-align: right;\">\n",
              "      <th></th>\n",
              "      <th>Gender</th>\n",
              "      <th>Customer Type</th>\n",
              "      <th>Type of Travel</th>\n",
              "      <th>Class</th>\n",
              "      <th>satisfaction</th>\n",
              "    </tr>\n",
              "  </thead>\n",
              "  <tbody>\n",
              "    <tr>\n",
              "      <th>count</th>\n",
              "      <td>92731</td>\n",
              "      <td>92731</td>\n",
              "      <td>92731</td>\n",
              "      <td>92731</td>\n",
              "      <td>92731</td>\n",
              "    </tr>\n",
              "    <tr>\n",
              "      <th>unique</th>\n",
              "      <td>2</td>\n",
              "      <td>2</td>\n",
              "      <td>2</td>\n",
              "      <td>3</td>\n",
              "      <td>2</td>\n",
              "    </tr>\n",
              "    <tr>\n",
              "      <th>top</th>\n",
              "      <td>Female</td>\n",
              "      <td>Loyal Customer</td>\n",
              "      <td>Business travel</td>\n",
              "      <td>Business</td>\n",
              "      <td>neutral or dissatisfied</td>\n",
              "    </tr>\n",
              "    <tr>\n",
              "      <th>freq</th>\n",
              "      <td>46998</td>\n",
              "      <td>77811</td>\n",
              "      <td>64002</td>\n",
              "      <td>44936</td>\n",
              "      <td>53296</td>\n",
              "    </tr>\n",
              "  </tbody>\n",
              "</table>\n",
              "</div>\n",
              "      <button class=\"colab-df-convert\" onclick=\"convertToInteractive('df-dd359a5c-0560-490d-a5b0-6b624eedf618')\"\n",
              "              title=\"Convert this dataframe to an interactive table.\"\n",
              "              style=\"display:none;\">\n",
              "        \n",
              "  <svg xmlns=\"http://www.w3.org/2000/svg\" height=\"24px\"viewBox=\"0 0 24 24\"\n",
              "       width=\"24px\">\n",
              "    <path d=\"M0 0h24v24H0V0z\" fill=\"none\"/>\n",
              "    <path d=\"M18.56 5.44l.94 2.06.94-2.06 2.06-.94-2.06-.94-.94-2.06-.94 2.06-2.06.94zm-11 1L8.5 8.5l.94-2.06 2.06-.94-2.06-.94L8.5 2.5l-.94 2.06-2.06.94zm10 10l.94 2.06.94-2.06 2.06-.94-2.06-.94-.94-2.06-.94 2.06-2.06.94z\"/><path d=\"M17.41 7.96l-1.37-1.37c-.4-.4-.92-.59-1.43-.59-.52 0-1.04.2-1.43.59L10.3 9.45l-7.72 7.72c-.78.78-.78 2.05 0 2.83L4 21.41c.39.39.9.59 1.41.59.51 0 1.02-.2 1.41-.59l7.78-7.78 2.81-2.81c.8-.78.8-2.07 0-2.86zM5.41 20L4 18.59l7.72-7.72 1.47 1.35L5.41 20z\"/>\n",
              "  </svg>\n",
              "      </button>\n",
              "      \n",
              "  <style>\n",
              "    .colab-df-container {\n",
              "      display:flex;\n",
              "      flex-wrap:wrap;\n",
              "      gap: 12px;\n",
              "    }\n",
              "\n",
              "    .colab-df-convert {\n",
              "      background-color: #E8F0FE;\n",
              "      border: none;\n",
              "      border-radius: 50%;\n",
              "      cursor: pointer;\n",
              "      display: none;\n",
              "      fill: #1967D2;\n",
              "      height: 32px;\n",
              "      padding: 0 0 0 0;\n",
              "      width: 32px;\n",
              "    }\n",
              "\n",
              "    .colab-df-convert:hover {\n",
              "      background-color: #E2EBFA;\n",
              "      box-shadow: 0px 1px 2px rgba(60, 64, 67, 0.3), 0px 1px 3px 1px rgba(60, 64, 67, 0.15);\n",
              "      fill: #174EA6;\n",
              "    }\n",
              "\n",
              "    [theme=dark] .colab-df-convert {\n",
              "      background-color: #3B4455;\n",
              "      fill: #D2E3FC;\n",
              "    }\n",
              "\n",
              "    [theme=dark] .colab-df-convert:hover {\n",
              "      background-color: #434B5C;\n",
              "      box-shadow: 0px 1px 3px 1px rgba(0, 0, 0, 0.15);\n",
              "      filter: drop-shadow(0px 1px 2px rgba(0, 0, 0, 0.3));\n",
              "      fill: #FFFFFF;\n",
              "    }\n",
              "  </style>\n",
              "\n",
              "      <script>\n",
              "        const buttonEl =\n",
              "          document.querySelector('#df-dd359a5c-0560-490d-a5b0-6b624eedf618 button.colab-df-convert');\n",
              "        buttonEl.style.display =\n",
              "          google.colab.kernel.accessAllowed ? 'block' : 'none';\n",
              "\n",
              "        async function convertToInteractive(key) {\n",
              "          const element = document.querySelector('#df-dd359a5c-0560-490d-a5b0-6b624eedf618');\n",
              "          const dataTable =\n",
              "            await google.colab.kernel.invokeFunction('convertToInteractive',\n",
              "                                                     [key], {});\n",
              "          if (!dataTable) return;\n",
              "\n",
              "          const docLinkHtml = 'Like what you see? Visit the ' +\n",
              "            '<a target=\"_blank\" href=https://colab.research.google.com/notebooks/data_table.ipynb>data table notebook</a>'\n",
              "            + ' to learn more about interactive tables.';\n",
              "          element.innerHTML = '';\n",
              "          dataTable['output_type'] = 'display_data';\n",
              "          await google.colab.output.renderOutput(dataTable, element);\n",
              "          const docLink = document.createElement('div');\n",
              "          docLink.innerHTML = docLinkHtml;\n",
              "          element.appendChild(docLink);\n",
              "        }\n",
              "      </script>\n",
              "    </div>\n",
              "  </div>\n",
              "  "
            ]
          },
          "metadata": {},
          "execution_count": 53
        }
      ]
    },
    {
      "cell_type": "code",
      "source": [
        "# Проверим, что все числовые значения находятся в допустимых диапазонах min,  max\n",
        "df.describe()"
      ],
      "metadata": {
        "colab": {
          "base_uri": "https://localhost:8080/",
          "height": 399
        },
        "id": "jZiJ8Uv8aGrs",
        "outputId": "fa341a6d-6ac0-4914-c4e7-394eb162847a"
      },
      "execution_count": null,
      "outputs": [
        {
          "output_type": "execute_result",
          "data": {
            "text/plain": [
              "                  id           Age  Flight Distance  \\\n",
              "count   92731.000000  92731.000000     92731.000000   \n",
              "mean    65327.342226     39.840183      1218.094618   \n",
              "std     37379.078007     15.125007       994.374838   \n",
              "min         1.000000      0.000000         0.000000   \n",
              "25%     33119.500000     28.000000       438.000000   \n",
              "50%     65536.000000     40.000000       867.000000   \n",
              "75%     97665.500000     51.000000      1771.000000   \n",
              "max    129880.000000    112.000000      3993.000000   \n",
              "\n",
              "       Departure Delay in Minutes  Arrival Delay in Minutes  \\\n",
              "count                92731.000000              92731.000000   \n",
              "mean                    13.893854                 14.283735   \n",
              "std                     31.872225                 32.339321   \n",
              "min                      0.000000                  0.000000   \n",
              "25%                      0.000000                  0.000000   \n",
              "50%                      0.000000                  0.000000   \n",
              "75%                     12.000000                 13.000000   \n",
              "max                    294.000000                295.000000   \n",
              "\n",
              "       Inflight wifi service  Departure/Arrival time convenient  \\\n",
              "count           92731.000000                       92731.000000   \n",
              "mean                2.818626                           3.209304   \n",
              "std                 1.252834                           1.385691   \n",
              "min                 1.000000                           1.000000   \n",
              "25%                 2.000000                           2.000000   \n",
              "50%                 3.000000                           3.000000   \n",
              "75%                 4.000000                           4.000000   \n",
              "max                 5.000000                           5.000000   \n",
              "\n",
              "       Ease of Online booking  Gate location  Food and drink  Online boarding  \\\n",
              "count            92731.000000   92731.000000    92731.000000     92731.000000   \n",
              "mean                 2.878638       2.987318        3.211601         3.325878   \n",
              "std                  1.296854       1.280978        1.323912         1.263108   \n",
              "min                  1.000000       1.000000        1.000000         1.000000   \n",
              "25%                  2.000000       2.000000        2.000000         2.000000   \n",
              "50%                  3.000000       3.000000        3.000000         4.000000   \n",
              "75%                  4.000000       4.000000        4.000000         4.000000   \n",
              "max                  5.000000       5.000000        5.000000         5.000000   \n",
              "\n",
              "       Seat comfort  Inflight entertainment  On-board service  \\\n",
              "count  92731.000000            92731.000000      92731.000000   \n",
              "mean       3.454357                3.381846          3.385049   \n",
              "std        1.311282                1.325688          1.286675   \n",
              "min        1.000000                1.000000          1.000000   \n",
              "25%        2.000000                2.000000          2.000000   \n",
              "50%        4.000000                4.000000          4.000000   \n",
              "75%        5.000000                4.000000          4.000000   \n",
              "max        5.000000                5.000000          5.000000   \n",
              "\n",
              "       Leg room service  Baggage handling  Checkin service  Inflight service  \\\n",
              "count      92731.000000      92731.000000     92731.000000      92731.000000   \n",
              "mean           3.379345          3.636195         3.290626          3.646300   \n",
              "std            1.295209          1.169486         1.266051          1.164169   \n",
              "min            1.000000          1.000000         1.000000          1.000000   \n",
              "25%            2.000000          3.000000         2.000000          3.000000   \n",
              "50%            4.000000          4.000000         3.000000          4.000000   \n",
              "75%            4.000000          5.000000         4.000000          5.000000   \n",
              "max            5.000000          5.000000         5.000000          5.000000   \n",
              "\n",
              "        Cleanliness  \n",
              "count  92731.000000  \n",
              "mean       3.293278  \n",
              "std        1.308649  \n",
              "min        1.000000  \n",
              "25%        2.000000  \n",
              "50%        3.000000  \n",
              "75%        4.000000  \n",
              "max        5.000000  "
            ],
            "text/html": [
              "\n",
              "  <div id=\"df-45864294-8cf1-43df-9dee-fefb921c201b\">\n",
              "    <div class=\"colab-df-container\">\n",
              "      <div>\n",
              "<style scoped>\n",
              "    .dataframe tbody tr th:only-of-type {\n",
              "        vertical-align: middle;\n",
              "    }\n",
              "\n",
              "    .dataframe tbody tr th {\n",
              "        vertical-align: top;\n",
              "    }\n",
              "\n",
              "    .dataframe thead th {\n",
              "        text-align: right;\n",
              "    }\n",
              "</style>\n",
              "<table border=\"1\" class=\"dataframe\">\n",
              "  <thead>\n",
              "    <tr style=\"text-align: right;\">\n",
              "      <th></th>\n",
              "      <th>id</th>\n",
              "      <th>Age</th>\n",
              "      <th>Flight Distance</th>\n",
              "      <th>Departure Delay in Minutes</th>\n",
              "      <th>Arrival Delay in Minutes</th>\n",
              "      <th>Inflight wifi service</th>\n",
              "      <th>Departure/Arrival time convenient</th>\n",
              "      <th>Ease of Online booking</th>\n",
              "      <th>Gate location</th>\n",
              "      <th>Food and drink</th>\n",
              "      <th>Online boarding</th>\n",
              "      <th>Seat comfort</th>\n",
              "      <th>Inflight entertainment</th>\n",
              "      <th>On-board service</th>\n",
              "      <th>Leg room service</th>\n",
              "      <th>Baggage handling</th>\n",
              "      <th>Checkin service</th>\n",
              "      <th>Inflight service</th>\n",
              "      <th>Cleanliness</th>\n",
              "    </tr>\n",
              "  </thead>\n",
              "  <tbody>\n",
              "    <tr>\n",
              "      <th>count</th>\n",
              "      <td>92731.000000</td>\n",
              "      <td>92731.000000</td>\n",
              "      <td>92731.000000</td>\n",
              "      <td>92731.000000</td>\n",
              "      <td>92731.000000</td>\n",
              "      <td>92731.000000</td>\n",
              "      <td>92731.000000</td>\n",
              "      <td>92731.000000</td>\n",
              "      <td>92731.000000</td>\n",
              "      <td>92731.000000</td>\n",
              "      <td>92731.000000</td>\n",
              "      <td>92731.000000</td>\n",
              "      <td>92731.000000</td>\n",
              "      <td>92731.000000</td>\n",
              "      <td>92731.000000</td>\n",
              "      <td>92731.000000</td>\n",
              "      <td>92731.000000</td>\n",
              "      <td>92731.000000</td>\n",
              "      <td>92731.000000</td>\n",
              "    </tr>\n",
              "    <tr>\n",
              "      <th>mean</th>\n",
              "      <td>65327.342226</td>\n",
              "      <td>39.840183</td>\n",
              "      <td>1218.094618</td>\n",
              "      <td>13.893854</td>\n",
              "      <td>14.283735</td>\n",
              "      <td>2.818626</td>\n",
              "      <td>3.209304</td>\n",
              "      <td>2.878638</td>\n",
              "      <td>2.987318</td>\n",
              "      <td>3.211601</td>\n",
              "      <td>3.325878</td>\n",
              "      <td>3.454357</td>\n",
              "      <td>3.381846</td>\n",
              "      <td>3.385049</td>\n",
              "      <td>3.379345</td>\n",
              "      <td>3.636195</td>\n",
              "      <td>3.290626</td>\n",
              "      <td>3.646300</td>\n",
              "      <td>3.293278</td>\n",
              "    </tr>\n",
              "    <tr>\n",
              "      <th>std</th>\n",
              "      <td>37379.078007</td>\n",
              "      <td>15.125007</td>\n",
              "      <td>994.374838</td>\n",
              "      <td>31.872225</td>\n",
              "      <td>32.339321</td>\n",
              "      <td>1.252834</td>\n",
              "      <td>1.385691</td>\n",
              "      <td>1.296854</td>\n",
              "      <td>1.280978</td>\n",
              "      <td>1.323912</td>\n",
              "      <td>1.263108</td>\n",
              "      <td>1.311282</td>\n",
              "      <td>1.325688</td>\n",
              "      <td>1.286675</td>\n",
              "      <td>1.295209</td>\n",
              "      <td>1.169486</td>\n",
              "      <td>1.266051</td>\n",
              "      <td>1.164169</td>\n",
              "      <td>1.308649</td>\n",
              "    </tr>\n",
              "    <tr>\n",
              "      <th>min</th>\n",
              "      <td>1.000000</td>\n",
              "      <td>0.000000</td>\n",
              "      <td>0.000000</td>\n",
              "      <td>0.000000</td>\n",
              "      <td>0.000000</td>\n",
              "      <td>1.000000</td>\n",
              "      <td>1.000000</td>\n",
              "      <td>1.000000</td>\n",
              "      <td>1.000000</td>\n",
              "      <td>1.000000</td>\n",
              "      <td>1.000000</td>\n",
              "      <td>1.000000</td>\n",
              "      <td>1.000000</td>\n",
              "      <td>1.000000</td>\n",
              "      <td>1.000000</td>\n",
              "      <td>1.000000</td>\n",
              "      <td>1.000000</td>\n",
              "      <td>1.000000</td>\n",
              "      <td>1.000000</td>\n",
              "    </tr>\n",
              "    <tr>\n",
              "      <th>25%</th>\n",
              "      <td>33119.500000</td>\n",
              "      <td>28.000000</td>\n",
              "      <td>438.000000</td>\n",
              "      <td>0.000000</td>\n",
              "      <td>0.000000</td>\n",
              "      <td>2.000000</td>\n",
              "      <td>2.000000</td>\n",
              "      <td>2.000000</td>\n",
              "      <td>2.000000</td>\n",
              "      <td>2.000000</td>\n",
              "      <td>2.000000</td>\n",
              "      <td>2.000000</td>\n",
              "      <td>2.000000</td>\n",
              "      <td>2.000000</td>\n",
              "      <td>2.000000</td>\n",
              "      <td>3.000000</td>\n",
              "      <td>2.000000</td>\n",
              "      <td>3.000000</td>\n",
              "      <td>2.000000</td>\n",
              "    </tr>\n",
              "    <tr>\n",
              "      <th>50%</th>\n",
              "      <td>65536.000000</td>\n",
              "      <td>40.000000</td>\n",
              "      <td>867.000000</td>\n",
              "      <td>0.000000</td>\n",
              "      <td>0.000000</td>\n",
              "      <td>3.000000</td>\n",
              "      <td>3.000000</td>\n",
              "      <td>3.000000</td>\n",
              "      <td>3.000000</td>\n",
              "      <td>3.000000</td>\n",
              "      <td>4.000000</td>\n",
              "      <td>4.000000</td>\n",
              "      <td>4.000000</td>\n",
              "      <td>4.000000</td>\n",
              "      <td>4.000000</td>\n",
              "      <td>4.000000</td>\n",
              "      <td>3.000000</td>\n",
              "      <td>4.000000</td>\n",
              "      <td>3.000000</td>\n",
              "    </tr>\n",
              "    <tr>\n",
              "      <th>75%</th>\n",
              "      <td>97665.500000</td>\n",
              "      <td>51.000000</td>\n",
              "      <td>1771.000000</td>\n",
              "      <td>12.000000</td>\n",
              "      <td>13.000000</td>\n",
              "      <td>4.000000</td>\n",
              "      <td>4.000000</td>\n",
              "      <td>4.000000</td>\n",
              "      <td>4.000000</td>\n",
              "      <td>4.000000</td>\n",
              "      <td>4.000000</td>\n",
              "      <td>5.000000</td>\n",
              "      <td>4.000000</td>\n",
              "      <td>4.000000</td>\n",
              "      <td>4.000000</td>\n",
              "      <td>5.000000</td>\n",
              "      <td>4.000000</td>\n",
              "      <td>5.000000</td>\n",
              "      <td>4.000000</td>\n",
              "    </tr>\n",
              "    <tr>\n",
              "      <th>max</th>\n",
              "      <td>129880.000000</td>\n",
              "      <td>112.000000</td>\n",
              "      <td>3993.000000</td>\n",
              "      <td>294.000000</td>\n",
              "      <td>295.000000</td>\n",
              "      <td>5.000000</td>\n",
              "      <td>5.000000</td>\n",
              "      <td>5.000000</td>\n",
              "      <td>5.000000</td>\n",
              "      <td>5.000000</td>\n",
              "      <td>5.000000</td>\n",
              "      <td>5.000000</td>\n",
              "      <td>5.000000</td>\n",
              "      <td>5.000000</td>\n",
              "      <td>5.000000</td>\n",
              "      <td>5.000000</td>\n",
              "      <td>5.000000</td>\n",
              "      <td>5.000000</td>\n",
              "      <td>5.000000</td>\n",
              "    </tr>\n",
              "  </tbody>\n",
              "</table>\n",
              "</div>\n",
              "      <button class=\"colab-df-convert\" onclick=\"convertToInteractive('df-45864294-8cf1-43df-9dee-fefb921c201b')\"\n",
              "              title=\"Convert this dataframe to an interactive table.\"\n",
              "              style=\"display:none;\">\n",
              "        \n",
              "  <svg xmlns=\"http://www.w3.org/2000/svg\" height=\"24px\"viewBox=\"0 0 24 24\"\n",
              "       width=\"24px\">\n",
              "    <path d=\"M0 0h24v24H0V0z\" fill=\"none\"/>\n",
              "    <path d=\"M18.56 5.44l.94 2.06.94-2.06 2.06-.94-2.06-.94-.94-2.06-.94 2.06-2.06.94zm-11 1L8.5 8.5l.94-2.06 2.06-.94-2.06-.94L8.5 2.5l-.94 2.06-2.06.94zm10 10l.94 2.06.94-2.06 2.06-.94-2.06-.94-.94-2.06-.94 2.06-2.06.94z\"/><path d=\"M17.41 7.96l-1.37-1.37c-.4-.4-.92-.59-1.43-.59-.52 0-1.04.2-1.43.59L10.3 9.45l-7.72 7.72c-.78.78-.78 2.05 0 2.83L4 21.41c.39.39.9.59 1.41.59.51 0 1.02-.2 1.41-.59l7.78-7.78 2.81-2.81c.8-.78.8-2.07 0-2.86zM5.41 20L4 18.59l7.72-7.72 1.47 1.35L5.41 20z\"/>\n",
              "  </svg>\n",
              "      </button>\n",
              "      \n",
              "  <style>\n",
              "    .colab-df-container {\n",
              "      display:flex;\n",
              "      flex-wrap:wrap;\n",
              "      gap: 12px;\n",
              "    }\n",
              "\n",
              "    .colab-df-convert {\n",
              "      background-color: #E8F0FE;\n",
              "      border: none;\n",
              "      border-radius: 50%;\n",
              "      cursor: pointer;\n",
              "      display: none;\n",
              "      fill: #1967D2;\n",
              "      height: 32px;\n",
              "      padding: 0 0 0 0;\n",
              "      width: 32px;\n",
              "    }\n",
              "\n",
              "    .colab-df-convert:hover {\n",
              "      background-color: #E2EBFA;\n",
              "      box-shadow: 0px 1px 2px rgba(60, 64, 67, 0.3), 0px 1px 3px 1px rgba(60, 64, 67, 0.15);\n",
              "      fill: #174EA6;\n",
              "    }\n",
              "\n",
              "    [theme=dark] .colab-df-convert {\n",
              "      background-color: #3B4455;\n",
              "      fill: #D2E3FC;\n",
              "    }\n",
              "\n",
              "    [theme=dark] .colab-df-convert:hover {\n",
              "      background-color: #434B5C;\n",
              "      box-shadow: 0px 1px 3px 1px rgba(0, 0, 0, 0.15);\n",
              "      filter: drop-shadow(0px 1px 2px rgba(0, 0, 0, 0.3));\n",
              "      fill: #FFFFFF;\n",
              "    }\n",
              "  </style>\n",
              "\n",
              "      <script>\n",
              "        const buttonEl =\n",
              "          document.querySelector('#df-45864294-8cf1-43df-9dee-fefb921c201b button.colab-df-convert');\n",
              "        buttonEl.style.display =\n",
              "          google.colab.kernel.accessAllowed ? 'block' : 'none';\n",
              "\n",
              "        async function convertToInteractive(key) {\n",
              "          const element = document.querySelector('#df-45864294-8cf1-43df-9dee-fefb921c201b');\n",
              "          const dataTable =\n",
              "            await google.colab.kernel.invokeFunction('convertToInteractive',\n",
              "                                                     [key], {});\n",
              "          if (!dataTable) return;\n",
              "\n",
              "          const docLinkHtml = 'Like what you see? Visit the ' +\n",
              "            '<a target=\"_blank\" href=https://colab.research.google.com/notebooks/data_table.ipynb>data table notebook</a>'\n",
              "            + ' to learn more about interactive tables.';\n",
              "          element.innerHTML = '';\n",
              "          dataTable['output_type'] = 'display_data';\n",
              "          await google.colab.output.renderOutput(dataTable, element);\n",
              "          const docLink = document.createElement('div');\n",
              "          docLink.innerHTML = docLinkHtml;\n",
              "          element.appendChild(docLink);\n",
              "        }\n",
              "      </script>\n",
              "    </div>\n",
              "  </div>\n",
              "  "
            ]
          },
          "metadata": {},
          "execution_count": 54
        }
      ]
    },
    {
      "cell_type": "code",
      "source": [
        "# Перекодируем категориальные переменные Gender, Customer Type, Type of Travel, Class в числовые\n",
        "df['Gender Index'] = df['Gender'].map({'Male' : 1, 'Female' : 0})\n",
        "df['Customer Type Index'] = df['Customer Type'].map({'Loyal Customer' : 1, 'disloyal Customer' : 0})\n",
        "df['Type of Travel Index'] = df['Type of Travel'].map({'Business travel' : 1, 'Personal Travel' : 0})\n",
        "type_of_class = pd.get_dummies(df['Class'], prefix='Class')\n",
        "# Отбросим одну колонку, т.к. ее присутствие добавляет мультиколлинеарности\n",
        "type_of_class.drop('Class_Eco Plus', axis=1, inplace=True)\n",
        "df = pd.concat([df, type_of_class], axis=1)\n",
        "df['target'] = df['satisfaction'].map({'satisfied' : 1, 'neutral or dissatisfied' : 0})\n",
        "df.columns"
      ],
      "metadata": {
        "colab": {
          "base_uri": "https://localhost:8080/"
        },
        "id": "_7Utw8Mxa2rj",
        "outputId": "5a5cdc55-f5f9-4bee-a03d-a9bf49e81913"
      },
      "execution_count": null,
      "outputs": [
        {
          "output_type": "execute_result",
          "data": {
            "text/plain": [
              "Index(['id', 'Gender', 'Age', 'Customer Type', 'Type of Travel', 'Class',\n",
              "       'Flight Distance', 'Departure Delay in Minutes',\n",
              "       'Arrival Delay in Minutes', 'Inflight wifi service',\n",
              "       'Departure/Arrival time convenient', 'Ease of Online booking',\n",
              "       'Gate location', 'Food and drink', 'Online boarding', 'Seat comfort',\n",
              "       'Inflight entertainment', 'On-board service', 'Leg room service',\n",
              "       'Baggage handling', 'Checkin service', 'Inflight service',\n",
              "       'Cleanliness', 'satisfaction', 'Gender Index', 'Customer Type Index',\n",
              "       'Type of Travel Index', 'Class_Business', 'Class_Eco', 'target'],\n",
              "      dtype='object')"
            ]
          },
          "metadata": {},
          "execution_count": 55
        }
      ]
    },
    {
      "cell_type": "code",
      "source": [
        "study_features = [\n",
        "    'Gender Index',\n",
        "    'Age',\n",
        "    'Customer Type Index',\n",
        "    'Type of Travel Index',\n",
        "    'Class_Business',\n",
        "    'Class_Eco',\n",
        "    'Flight Distance',\n",
        "    'Departure Delay in Minutes',\n",
        "    'Arrival Delay in Minutes',\n",
        "    'Inflight wifi service',\n",
        "    'Departure/Arrival time convenient',\n",
        "    'Ease of Online booking',\n",
        "    'Gate location',\n",
        "    'Food and drink',\n",
        "    'Online boarding',\n",
        "    'Seat comfort',\n",
        "    'Inflight entertainment',\n",
        "    'On-board service',\n",
        "    'Leg room service',\n",
        "    'Baggage handling',\n",
        "    'Checkin service',\n",
        "    'Inflight service',\n",
        "    'Cleanliness'\n",
        "]\n",
        "X = df[study_features]\n",
        "y = df['target']\n",
        "X.shape"
      ],
      "metadata": {
        "colab": {
          "base_uri": "https://localhost:8080/"
        },
        "id": "c-lGxjrubEtz",
        "outputId": "f1b38e06-bb46-427b-a3e5-c16d7e22f373"
      },
      "execution_count": null,
      "outputs": [
        {
          "output_type": "execute_result",
          "data": {
            "text/plain": [
              "(92731, 23)"
            ]
          },
          "metadata": {},
          "execution_count": 56
        }
      ]
    },
    {
      "cell_type": "code",
      "source": [
        "# Применим логистическую регрессию для обучения модели satisfaction = f(parameteres)\n",
        "from sklearn.model_selection import train_test_split\n",
        "from sklearn.preprocessing import MinMaxScaler\n",
        "\n",
        "X_train, X_test, y_train, y_test = train_test_split(X, y, test_size=0.25, random_state=42)\n",
        "X_train.shape, X_test.shape\n",
        "\n",
        "# Нормализуем числовые значения\n",
        "ss = MinMaxScaler()\n",
        "ss.fit(X_train) # вычислить min, max по каждому столбцу\n",
        "\n",
        "X_train = pd.DataFrame(ss.transform(X_train), columns=X_train.columns)\n",
        "X_test = pd.DataFrame(ss.transform(X_test), columns=X_test.columns)\n",
        "\n",
        "X_train.head()"
      ],
      "metadata": {
        "colab": {
          "base_uri": "https://localhost:8080/",
          "height": 314
        },
        "id": "zK2yPTJxg3NJ",
        "outputId": "de448d04-8acc-4aac-8d7b-513c99b25047"
      },
      "execution_count": null,
      "outputs": [
        {
          "output_type": "execute_result",
          "data": {
            "text/plain": [
              "   Gender Index       Age  Customer Type Index  Type of Travel Index  \\\n",
              "0           1.0  0.241071                  0.0                   1.0   \n",
              "1           0.0  0.267857                  1.0                   1.0   \n",
              "2           1.0  0.258929                  1.0                   0.0   \n",
              "3           1.0  0.428571                  1.0                   1.0   \n",
              "4           1.0  0.142857                  1.0                   0.0   \n",
              "\n",
              "   Class_Business  Class_Eco  Flight Distance  Departure Delay in Minutes  \\\n",
              "0             0.0        1.0         0.153519                    0.061224   \n",
              "1             1.0        0.0         0.600801                    0.023810   \n",
              "2             0.0        1.0         0.298522                    0.000000   \n",
              "3             1.0        0.0         0.588279                    0.000000   \n",
              "4             0.0        1.0         0.234661                    0.000000   \n",
              "\n",
              "   Arrival Delay in Minutes  Inflight wifi service  ...  Food and drink  \\\n",
              "0                  0.016949                   0.25  ...            0.00   \n",
              "1                  0.033898                   0.75  ...            0.75   \n",
              "2                  0.000000                   0.00  ...            0.50   \n",
              "3                  0.000000                   1.00  ...            1.00   \n",
              "4                  0.000000                   0.00  ...            0.00   \n",
              "\n",
              "   Online boarding  Seat comfort  Inflight entertainment  On-board service  \\\n",
              "0             0.25          0.00                    0.00              0.25   \n",
              "1             0.75          0.75                    0.75              0.75   \n",
              "2             0.00          0.50                    0.50              0.75   \n",
              "3             1.00          1.00                    1.00              1.00   \n",
              "4             0.00          0.00                    0.00              1.00   \n",
              "\n",
              "   Leg room service  Baggage handling  Checkin service  Inflight service  \\\n",
              "0              0.00              0.75             0.00              0.75   \n",
              "1              1.00              0.75             0.50              1.00   \n",
              "2              0.50              0.75             1.00              1.00   \n",
              "3              1.00              1.00             0.50              1.00   \n",
              "4              0.75              1.00             0.75              0.75   \n",
              "\n",
              "   Cleanliness  \n",
              "0         0.00  \n",
              "1         0.75  \n",
              "2         0.50  \n",
              "3         0.50  \n",
              "4         0.00  \n",
              "\n",
              "[5 rows x 23 columns]"
            ],
            "text/html": [
              "\n",
              "  <div id=\"df-a2c7d33b-a516-4977-ae6f-48d9f42d5620\">\n",
              "    <div class=\"colab-df-container\">\n",
              "      <div>\n",
              "<style scoped>\n",
              "    .dataframe tbody tr th:only-of-type {\n",
              "        vertical-align: middle;\n",
              "    }\n",
              "\n",
              "    .dataframe tbody tr th {\n",
              "        vertical-align: top;\n",
              "    }\n",
              "\n",
              "    .dataframe thead th {\n",
              "        text-align: right;\n",
              "    }\n",
              "</style>\n",
              "<table border=\"1\" class=\"dataframe\">\n",
              "  <thead>\n",
              "    <tr style=\"text-align: right;\">\n",
              "      <th></th>\n",
              "      <th>Gender Index</th>\n",
              "      <th>Age</th>\n",
              "      <th>Customer Type Index</th>\n",
              "      <th>Type of Travel Index</th>\n",
              "      <th>Class_Business</th>\n",
              "      <th>Class_Eco</th>\n",
              "      <th>Flight Distance</th>\n",
              "      <th>Departure Delay in Minutes</th>\n",
              "      <th>Arrival Delay in Minutes</th>\n",
              "      <th>Inflight wifi service</th>\n",
              "      <th>...</th>\n",
              "      <th>Food and drink</th>\n",
              "      <th>Online boarding</th>\n",
              "      <th>Seat comfort</th>\n",
              "      <th>Inflight entertainment</th>\n",
              "      <th>On-board service</th>\n",
              "      <th>Leg room service</th>\n",
              "      <th>Baggage handling</th>\n",
              "      <th>Checkin service</th>\n",
              "      <th>Inflight service</th>\n",
              "      <th>Cleanliness</th>\n",
              "    </tr>\n",
              "  </thead>\n",
              "  <tbody>\n",
              "    <tr>\n",
              "      <th>0</th>\n",
              "      <td>1.0</td>\n",
              "      <td>0.241071</td>\n",
              "      <td>0.0</td>\n",
              "      <td>1.0</td>\n",
              "      <td>0.0</td>\n",
              "      <td>1.0</td>\n",
              "      <td>0.153519</td>\n",
              "      <td>0.061224</td>\n",
              "      <td>0.016949</td>\n",
              "      <td>0.25</td>\n",
              "      <td>...</td>\n",
              "      <td>0.00</td>\n",
              "      <td>0.25</td>\n",
              "      <td>0.00</td>\n",
              "      <td>0.00</td>\n",
              "      <td>0.25</td>\n",
              "      <td>0.00</td>\n",
              "      <td>0.75</td>\n",
              "      <td>0.00</td>\n",
              "      <td>0.75</td>\n",
              "      <td>0.00</td>\n",
              "    </tr>\n",
              "    <tr>\n",
              "      <th>1</th>\n",
              "      <td>0.0</td>\n",
              "      <td>0.267857</td>\n",
              "      <td>1.0</td>\n",
              "      <td>1.0</td>\n",
              "      <td>1.0</td>\n",
              "      <td>0.0</td>\n",
              "      <td>0.600801</td>\n",
              "      <td>0.023810</td>\n",
              "      <td>0.033898</td>\n",
              "      <td>0.75</td>\n",
              "      <td>...</td>\n",
              "      <td>0.75</td>\n",
              "      <td>0.75</td>\n",
              "      <td>0.75</td>\n",
              "      <td>0.75</td>\n",
              "      <td>0.75</td>\n",
              "      <td>1.00</td>\n",
              "      <td>0.75</td>\n",
              "      <td>0.50</td>\n",
              "      <td>1.00</td>\n",
              "      <td>0.75</td>\n",
              "    </tr>\n",
              "    <tr>\n",
              "      <th>2</th>\n",
              "      <td>1.0</td>\n",
              "      <td>0.258929</td>\n",
              "      <td>1.0</td>\n",
              "      <td>0.0</td>\n",
              "      <td>0.0</td>\n",
              "      <td>1.0</td>\n",
              "      <td>0.298522</td>\n",
              "      <td>0.000000</td>\n",
              "      <td>0.000000</td>\n",
              "      <td>0.00</td>\n",
              "      <td>...</td>\n",
              "      <td>0.50</td>\n",
              "      <td>0.00</td>\n",
              "      <td>0.50</td>\n",
              "      <td>0.50</td>\n",
              "      <td>0.75</td>\n",
              "      <td>0.50</td>\n",
              "      <td>0.75</td>\n",
              "      <td>1.00</td>\n",
              "      <td>1.00</td>\n",
              "      <td>0.50</td>\n",
              "    </tr>\n",
              "    <tr>\n",
              "      <th>3</th>\n",
              "      <td>1.0</td>\n",
              "      <td>0.428571</td>\n",
              "      <td>1.0</td>\n",
              "      <td>1.0</td>\n",
              "      <td>1.0</td>\n",
              "      <td>0.0</td>\n",
              "      <td>0.588279</td>\n",
              "      <td>0.000000</td>\n",
              "      <td>0.000000</td>\n",
              "      <td>1.00</td>\n",
              "      <td>...</td>\n",
              "      <td>1.00</td>\n",
              "      <td>1.00</td>\n",
              "      <td>1.00</td>\n",
              "      <td>1.00</td>\n",
              "      <td>1.00</td>\n",
              "      <td>1.00</td>\n",
              "      <td>1.00</td>\n",
              "      <td>0.50</td>\n",
              "      <td>1.00</td>\n",
              "      <td>0.50</td>\n",
              "    </tr>\n",
              "    <tr>\n",
              "      <th>4</th>\n",
              "      <td>1.0</td>\n",
              "      <td>0.142857</td>\n",
              "      <td>1.0</td>\n",
              "      <td>0.0</td>\n",
              "      <td>0.0</td>\n",
              "      <td>1.0</td>\n",
              "      <td>0.234661</td>\n",
              "      <td>0.000000</td>\n",
              "      <td>0.000000</td>\n",
              "      <td>0.00</td>\n",
              "      <td>...</td>\n",
              "      <td>0.00</td>\n",
              "      <td>0.00</td>\n",
              "      <td>0.00</td>\n",
              "      <td>0.00</td>\n",
              "      <td>1.00</td>\n",
              "      <td>0.75</td>\n",
              "      <td>1.00</td>\n",
              "      <td>0.75</td>\n",
              "      <td>0.75</td>\n",
              "      <td>0.00</td>\n",
              "    </tr>\n",
              "  </tbody>\n",
              "</table>\n",
              "<p>5 rows × 23 columns</p>\n",
              "</div>\n",
              "      <button class=\"colab-df-convert\" onclick=\"convertToInteractive('df-a2c7d33b-a516-4977-ae6f-48d9f42d5620')\"\n",
              "              title=\"Convert this dataframe to an interactive table.\"\n",
              "              style=\"display:none;\">\n",
              "        \n",
              "  <svg xmlns=\"http://www.w3.org/2000/svg\" height=\"24px\"viewBox=\"0 0 24 24\"\n",
              "       width=\"24px\">\n",
              "    <path d=\"M0 0h24v24H0V0z\" fill=\"none\"/>\n",
              "    <path d=\"M18.56 5.44l.94 2.06.94-2.06 2.06-.94-2.06-.94-.94-2.06-.94 2.06-2.06.94zm-11 1L8.5 8.5l.94-2.06 2.06-.94-2.06-.94L8.5 2.5l-.94 2.06-2.06.94zm10 10l.94 2.06.94-2.06 2.06-.94-2.06-.94-.94-2.06-.94 2.06-2.06.94z\"/><path d=\"M17.41 7.96l-1.37-1.37c-.4-.4-.92-.59-1.43-.59-.52 0-1.04.2-1.43.59L10.3 9.45l-7.72 7.72c-.78.78-.78 2.05 0 2.83L4 21.41c.39.39.9.59 1.41.59.51 0 1.02-.2 1.41-.59l7.78-7.78 2.81-2.81c.8-.78.8-2.07 0-2.86zM5.41 20L4 18.59l7.72-7.72 1.47 1.35L5.41 20z\"/>\n",
              "  </svg>\n",
              "      </button>\n",
              "      \n",
              "  <style>\n",
              "    .colab-df-container {\n",
              "      display:flex;\n",
              "      flex-wrap:wrap;\n",
              "      gap: 12px;\n",
              "    }\n",
              "\n",
              "    .colab-df-convert {\n",
              "      background-color: #E8F0FE;\n",
              "      border: none;\n",
              "      border-radius: 50%;\n",
              "      cursor: pointer;\n",
              "      display: none;\n",
              "      fill: #1967D2;\n",
              "      height: 32px;\n",
              "      padding: 0 0 0 0;\n",
              "      width: 32px;\n",
              "    }\n",
              "\n",
              "    .colab-df-convert:hover {\n",
              "      background-color: #E2EBFA;\n",
              "      box-shadow: 0px 1px 2px rgba(60, 64, 67, 0.3), 0px 1px 3px 1px rgba(60, 64, 67, 0.15);\n",
              "      fill: #174EA6;\n",
              "    }\n",
              "\n",
              "    [theme=dark] .colab-df-convert {\n",
              "      background-color: #3B4455;\n",
              "      fill: #D2E3FC;\n",
              "    }\n",
              "\n",
              "    [theme=dark] .colab-df-convert:hover {\n",
              "      background-color: #434B5C;\n",
              "      box-shadow: 0px 1px 3px 1px rgba(0, 0, 0, 0.15);\n",
              "      filter: drop-shadow(0px 1px 2px rgba(0, 0, 0, 0.3));\n",
              "      fill: #FFFFFF;\n",
              "    }\n",
              "  </style>\n",
              "\n",
              "      <script>\n",
              "        const buttonEl =\n",
              "          document.querySelector('#df-a2c7d33b-a516-4977-ae6f-48d9f42d5620 button.colab-df-convert');\n",
              "        buttonEl.style.display =\n",
              "          google.colab.kernel.accessAllowed ? 'block' : 'none';\n",
              "\n",
              "        async function convertToInteractive(key) {\n",
              "          const element = document.querySelector('#df-a2c7d33b-a516-4977-ae6f-48d9f42d5620');\n",
              "          const dataTable =\n",
              "            await google.colab.kernel.invokeFunction('convertToInteractive',\n",
              "                                                     [key], {});\n",
              "          if (!dataTable) return;\n",
              "\n",
              "          const docLinkHtml = 'Like what you see? Visit the ' +\n",
              "            '<a target=\"_blank\" href=https://colab.research.google.com/notebooks/data_table.ipynb>data table notebook</a>'\n",
              "            + ' to learn more about interactive tables.';\n",
              "          element.innerHTML = '';\n",
              "          dataTable['output_type'] = 'display_data';\n",
              "          await google.colab.output.renderOutput(dataTable, element);\n",
              "          const docLink = document.createElement('div');\n",
              "          docLink.innerHTML = docLinkHtml;\n",
              "          element.appendChild(docLink);\n",
              "        }\n",
              "      </script>\n",
              "    </div>\n",
              "  </div>\n",
              "  "
            ]
          },
          "metadata": {},
          "execution_count": 59
        }
      ]
    },
    {
      "cell_type": "code",
      "source": [
        "from sklearn.linear_model import LogisticRegression\n",
        "\n",
        "model = LogisticRegression()\n",
        "model.fit(X_train, y_train)\n",
        "pred = model.predict(X_test)\n",
        "\n",
        "pred[0:5]"
      ],
      "metadata": {
        "colab": {
          "base_uri": "https://localhost:8080/"
        },
        "id": "FCpe0HQSb-Yq",
        "outputId": "9f40ef42-4649-4858-fe2b-0ffa87ee2f92"
      },
      "execution_count": null,
      "outputs": [
        {
          "output_type": "execute_result",
          "data": {
            "text/plain": [
              "array([1, 0, 0, 1, 0])"
            ]
          },
          "metadata": {},
          "execution_count": 60
        }
      ]
    },
    {
      "cell_type": "code",
      "source": [
        "importances = pd.DataFrame({'weights': model.coef_[0], 'features': X_train.columns}).sort_values(by='weights')\n",
        "importances"
      ],
      "metadata": {
        "colab": {
          "base_uri": "https://localhost:8080/",
          "height": 771
        },
        "id": "zMkxpb5rii-j",
        "outputId": "e67109e2-8284-41cb-be0e-6cb2b67ebdef"
      },
      "execution_count": null,
      "outputs": [
        {
          "output_type": "execute_result",
          "data": {
            "text/plain": [
              "     weights                           features\n",
              "8  -2.225039           Arrival Delay in Minutes\n",
              "10 -1.331118  Departure/Arrival time convenient\n",
              "12 -1.002675                      Gate location\n",
              "1  -0.367816                                Age\n",
              "13 -0.185227                     Food and drink\n",
              "0   0.004489                       Gender Index\n",
              "6   0.116046                    Flight Distance\n",
              "15  0.142721                       Seat comfort\n",
              "5   0.237147                          Class_Eco\n",
              "16  0.345529             Inflight entertainment\n",
              "7   0.486328         Departure Delay in Minutes\n",
              "19  0.661798                   Baggage handling\n",
              "21  0.662334                   Inflight service\n",
              "4   1.055494                     Class_Business\n",
              "22  1.060213                        Cleanliness\n",
              "18  1.326304                   Leg room service\n",
              "17  1.421527                   On-board service\n",
              "20  1.424459                    Checkin service\n",
              "11  1.430606             Ease of Online booking\n",
              "2   2.795474                Customer Type Index\n",
              "9   3.156558              Inflight wifi service\n",
              "3   3.312505               Type of Travel Index\n",
              "14  3.626188                    Online boarding"
            ],
            "text/html": [
              "\n",
              "  <div id=\"df-a8eeac24-17b5-4660-84c5-34ccec48bb2a\">\n",
              "    <div class=\"colab-df-container\">\n",
              "      <div>\n",
              "<style scoped>\n",
              "    .dataframe tbody tr th:only-of-type {\n",
              "        vertical-align: middle;\n",
              "    }\n",
              "\n",
              "    .dataframe tbody tr th {\n",
              "        vertical-align: top;\n",
              "    }\n",
              "\n",
              "    .dataframe thead th {\n",
              "        text-align: right;\n",
              "    }\n",
              "</style>\n",
              "<table border=\"1\" class=\"dataframe\">\n",
              "  <thead>\n",
              "    <tr style=\"text-align: right;\">\n",
              "      <th></th>\n",
              "      <th>weights</th>\n",
              "      <th>features</th>\n",
              "    </tr>\n",
              "  </thead>\n",
              "  <tbody>\n",
              "    <tr>\n",
              "      <th>8</th>\n",
              "      <td>-2.225039</td>\n",
              "      <td>Arrival Delay in Minutes</td>\n",
              "    </tr>\n",
              "    <tr>\n",
              "      <th>10</th>\n",
              "      <td>-1.331118</td>\n",
              "      <td>Departure/Arrival time convenient</td>\n",
              "    </tr>\n",
              "    <tr>\n",
              "      <th>12</th>\n",
              "      <td>-1.002675</td>\n",
              "      <td>Gate location</td>\n",
              "    </tr>\n",
              "    <tr>\n",
              "      <th>1</th>\n",
              "      <td>-0.367816</td>\n",
              "      <td>Age</td>\n",
              "    </tr>\n",
              "    <tr>\n",
              "      <th>13</th>\n",
              "      <td>-0.185227</td>\n",
              "      <td>Food and drink</td>\n",
              "    </tr>\n",
              "    <tr>\n",
              "      <th>0</th>\n",
              "      <td>0.004489</td>\n",
              "      <td>Gender Index</td>\n",
              "    </tr>\n",
              "    <tr>\n",
              "      <th>6</th>\n",
              "      <td>0.116046</td>\n",
              "      <td>Flight Distance</td>\n",
              "    </tr>\n",
              "    <tr>\n",
              "      <th>15</th>\n",
              "      <td>0.142721</td>\n",
              "      <td>Seat comfort</td>\n",
              "    </tr>\n",
              "    <tr>\n",
              "      <th>5</th>\n",
              "      <td>0.237147</td>\n",
              "      <td>Class_Eco</td>\n",
              "    </tr>\n",
              "    <tr>\n",
              "      <th>16</th>\n",
              "      <td>0.345529</td>\n",
              "      <td>Inflight entertainment</td>\n",
              "    </tr>\n",
              "    <tr>\n",
              "      <th>7</th>\n",
              "      <td>0.486328</td>\n",
              "      <td>Departure Delay in Minutes</td>\n",
              "    </tr>\n",
              "    <tr>\n",
              "      <th>19</th>\n",
              "      <td>0.661798</td>\n",
              "      <td>Baggage handling</td>\n",
              "    </tr>\n",
              "    <tr>\n",
              "      <th>21</th>\n",
              "      <td>0.662334</td>\n",
              "      <td>Inflight service</td>\n",
              "    </tr>\n",
              "    <tr>\n",
              "      <th>4</th>\n",
              "      <td>1.055494</td>\n",
              "      <td>Class_Business</td>\n",
              "    </tr>\n",
              "    <tr>\n",
              "      <th>22</th>\n",
              "      <td>1.060213</td>\n",
              "      <td>Cleanliness</td>\n",
              "    </tr>\n",
              "    <tr>\n",
              "      <th>18</th>\n",
              "      <td>1.326304</td>\n",
              "      <td>Leg room service</td>\n",
              "    </tr>\n",
              "    <tr>\n",
              "      <th>17</th>\n",
              "      <td>1.421527</td>\n",
              "      <td>On-board service</td>\n",
              "    </tr>\n",
              "    <tr>\n",
              "      <th>20</th>\n",
              "      <td>1.424459</td>\n",
              "      <td>Checkin service</td>\n",
              "    </tr>\n",
              "    <tr>\n",
              "      <th>11</th>\n",
              "      <td>1.430606</td>\n",
              "      <td>Ease of Online booking</td>\n",
              "    </tr>\n",
              "    <tr>\n",
              "      <th>2</th>\n",
              "      <td>2.795474</td>\n",
              "      <td>Customer Type Index</td>\n",
              "    </tr>\n",
              "    <tr>\n",
              "      <th>9</th>\n",
              "      <td>3.156558</td>\n",
              "      <td>Inflight wifi service</td>\n",
              "    </tr>\n",
              "    <tr>\n",
              "      <th>3</th>\n",
              "      <td>3.312505</td>\n",
              "      <td>Type of Travel Index</td>\n",
              "    </tr>\n",
              "    <tr>\n",
              "      <th>14</th>\n",
              "      <td>3.626188</td>\n",
              "      <td>Online boarding</td>\n",
              "    </tr>\n",
              "  </tbody>\n",
              "</table>\n",
              "</div>\n",
              "      <button class=\"colab-df-convert\" onclick=\"convertToInteractive('df-a8eeac24-17b5-4660-84c5-34ccec48bb2a')\"\n",
              "              title=\"Convert this dataframe to an interactive table.\"\n",
              "              style=\"display:none;\">\n",
              "        \n",
              "  <svg xmlns=\"http://www.w3.org/2000/svg\" height=\"24px\"viewBox=\"0 0 24 24\"\n",
              "       width=\"24px\">\n",
              "    <path d=\"M0 0h24v24H0V0z\" fill=\"none\"/>\n",
              "    <path d=\"M18.56 5.44l.94 2.06.94-2.06 2.06-.94-2.06-.94-.94-2.06-.94 2.06-2.06.94zm-11 1L8.5 8.5l.94-2.06 2.06-.94-2.06-.94L8.5 2.5l-.94 2.06-2.06.94zm10 10l.94 2.06.94-2.06 2.06-.94-2.06-.94-.94-2.06-.94 2.06-2.06.94z\"/><path d=\"M17.41 7.96l-1.37-1.37c-.4-.4-.92-.59-1.43-.59-.52 0-1.04.2-1.43.59L10.3 9.45l-7.72 7.72c-.78.78-.78 2.05 0 2.83L4 21.41c.39.39.9.59 1.41.59.51 0 1.02-.2 1.41-.59l7.78-7.78 2.81-2.81c.8-.78.8-2.07 0-2.86zM5.41 20L4 18.59l7.72-7.72 1.47 1.35L5.41 20z\"/>\n",
              "  </svg>\n",
              "      </button>\n",
              "      \n",
              "  <style>\n",
              "    .colab-df-container {\n",
              "      display:flex;\n",
              "      flex-wrap:wrap;\n",
              "      gap: 12px;\n",
              "    }\n",
              "\n",
              "    .colab-df-convert {\n",
              "      background-color: #E8F0FE;\n",
              "      border: none;\n",
              "      border-radius: 50%;\n",
              "      cursor: pointer;\n",
              "      display: none;\n",
              "      fill: #1967D2;\n",
              "      height: 32px;\n",
              "      padding: 0 0 0 0;\n",
              "      width: 32px;\n",
              "    }\n",
              "\n",
              "    .colab-df-convert:hover {\n",
              "      background-color: #E2EBFA;\n",
              "      box-shadow: 0px 1px 2px rgba(60, 64, 67, 0.3), 0px 1px 3px 1px rgba(60, 64, 67, 0.15);\n",
              "      fill: #174EA6;\n",
              "    }\n",
              "\n",
              "    [theme=dark] .colab-df-convert {\n",
              "      background-color: #3B4455;\n",
              "      fill: #D2E3FC;\n",
              "    }\n",
              "\n",
              "    [theme=dark] .colab-df-convert:hover {\n",
              "      background-color: #434B5C;\n",
              "      box-shadow: 0px 1px 3px 1px rgba(0, 0, 0, 0.15);\n",
              "      filter: drop-shadow(0px 1px 2px rgba(0, 0, 0, 0.3));\n",
              "      fill: #FFFFFF;\n",
              "    }\n",
              "  </style>\n",
              "\n",
              "      <script>\n",
              "        const buttonEl =\n",
              "          document.querySelector('#df-a8eeac24-17b5-4660-84c5-34ccec48bb2a button.colab-df-convert');\n",
              "        buttonEl.style.display =\n",
              "          google.colab.kernel.accessAllowed ? 'block' : 'none';\n",
              "\n",
              "        async function convertToInteractive(key) {\n",
              "          const element = document.querySelector('#df-a8eeac24-17b5-4660-84c5-34ccec48bb2a');\n",
              "          const dataTable =\n",
              "            await google.colab.kernel.invokeFunction('convertToInteractive',\n",
              "                                                     [key], {});\n",
              "          if (!dataTable) return;\n",
              "\n",
              "          const docLinkHtml = 'Like what you see? Visit the ' +\n",
              "            '<a target=\"_blank\" href=https://colab.research.google.com/notebooks/data_table.ipynb>data table notebook</a>'\n",
              "            + ' to learn more about interactive tables.';\n",
              "          element.innerHTML = '';\n",
              "          dataTable['output_type'] = 'display_data';\n",
              "          await google.colab.output.renderOutput(dataTable, element);\n",
              "          const docLink = document.createElement('div');\n",
              "          docLink.innerHTML = docLinkHtml;\n",
              "          element.appendChild(docLink);\n",
              "        }\n",
              "      </script>\n",
              "    </div>\n",
              "  </div>\n",
              "  "
            ]
          },
          "metadata": {},
          "execution_count": 61
        }
      ]
    },
    {
      "cell_type": "code",
      "source": [
        "b = sns.barplot(x='features', y='weights', data = importances, palette='summer')\n",
        "_ = plt.setp(b.get_xticklabels(), rotation=90)"
      ],
      "metadata": {
        "colab": {
          "base_uri": "https://localhost:8080/",
          "height": 673
        },
        "id": "OKPnw-r5jllv",
        "outputId": "7316c01e-271f-45f7-db74-53426267a376"
      },
      "execution_count": null,
      "outputs": [
        {
          "output_type": "display_data",
          "data": {
            "text/plain": [
              "<Figure size 640x480 with 1 Axes>"
            ],
            "image/png": "[encoded data removed]"
          },
          "metadata": {}
        }
      ]
    },
    {
      "cell_type": "markdown",
      "source": [
        "# Выводы\n",
        "Неудовлетворенные клиенты - это те, :\n",
        "  - которым не нравится:\n",
        "    - задержка прибытия (Arrival Delay in Minutes)\n",
        "    - неудобное время отправления/прибытия (Departure/Arrival time convenient)\n",
        "    - расположение выхода на посадку в аэропорту\n",
        "  - которые возрастные\n",
        "\n",
        "Удовлетворенные клиенты - это те, :\n",
        "  - которым нравится:\n",
        "    - нравится место в самолете\n",
        "    - нравится тип поездки - бизнес\n",
        "    - нравится интернет на борту (Inflight wifi service)\n",
        "  - которые - лояльные\n",
        "\n",
        "Некоторые закономертности:\n",
        "- класс 'Business' нравится больше чем 'Eco'\n",
        "- клиентам нравится Чистота (Cleanliness)\n",
        "\n",
        "Некоторые странности:\n",
        "- задержка прибытия немного нравится клиентам (Departure Delay in Minutes)\n",
        "\n",
        "Некоторые замечания:\n",
        "- удовлетворенность клиентов:\n",
        "  - почти не зависит от возраста (Age)\n",
        "  - не зависит от пола (Gender)"
      ],
      "metadata": {
        "id": "dFyoAoihlLLa"
      }
    }
  ]
}